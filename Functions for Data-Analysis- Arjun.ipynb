{
 "cells": [
  {
   "cell_type": "markdown",
   "metadata": {},
   "source": [
    "### Functions For Data Analysis "
   ]
  },
  {
   "cell_type": "code",
   "execution_count": null,
   "metadata": {
    "collapsed": true
   },
   "outputs": [],
   "source": []
  },
  {
   "cell_type": "code",
   "execution_count": null,
   "metadata": {
    "collapsed": true
   },
   "outputs": [],
   "source": [
    "# Function to replace Backslash \\ with Frontslash / in a given path.\n",
    "def slash_rep(path):\n",
    "    #it replaces \\ with /\n",
    "    return path.replace(\"\\r\",\"/r\")"
   ]
  },
  {
   "cell_type": "code",
   "execution_count": null,
   "metadata": {
    "collapsed": true
   },
   "outputs": [],
   "source": [
    "#use r before \"path\"\n",
    "slash_rep(r\"C:\\Users\\fake path\\Data_csv\\\")"
   ]
  },
  {
   "cell_type": "markdown",
   "metadata": {},
   "source": [
    "#### # Glob to merge and concat multiple sets"
   ]
  },
  {
   "cell_type": "code",
   "execution_count": null,
   "metadata": {
    "collapsed": true
   },
   "outputs": [],
   "source": [
    "# Using GLOB to merge and concat multiple files!\n",
    "path =r\"C:\\\\Users\\\\arjun\\\\Documents\\\\Enernoc_Project_Aj\\\\Test\" # use your path\n",
    "\n",
    "allFiles = glob.glob(path + \"/*.csv\")\n",
    "# frame = pd.DataFrame()\n",
    "dflist = []\n",
    "for f in allFiles:\n",
    "   file_name = f[54:-4]\n",
    "   df = pd.read_csv(f)\n",
    "   df.insert(1, 'site_id', file_name)\n",
    "   dflist.append(df)\n",
    "    \n",
    "site_df = pd.concat(dflist)"
   ]
  },
  {
   "cell_type": "code",
   "execution_count": null,
   "metadata": {
    "collapsed": true
   },
   "outputs": [],
   "source": [
    "## Merging multiple csv files and assigning file name as a new column name in a dataframe. \n",
    "\n",
    "\n",
    "path =r\"C:\\\\Users\\\\arjun\\\\Documents\\\\Enernoc_Project_Aj\\\\Test\" # use your path\n",
    "\n",
    "allFiles = glob.glob(path + \"/*.csv\")\n",
    "# frame = pd.DataFrame()\n",
    "dflist = []\n",
    "for f in allFiles:\n",
    "   file_name = f[54:-4]\n",
    "   df = pd.read_csv(f)\n",
    "   df.insert(1, 'site_id', file_name)\n",
    "   dflist.append(df)\n",
    "    \n",
    "frame = pd.concat(dflist)"
   ]
  },
  {
   "cell_type": "code",
   "execution_count": null,
   "metadata": {
    "collapsed": true
   },
   "outputs": [],
   "source": [
    "# Top n (n = natural number) for any two columns within any df along with dataframe df.\n",
    "def top_n(df, col1, col2, n):\n",
    "    #Finds top n of two columns!\n",
    "    topn = df.nlargest(n, col2)[[col1,col2]].reset_index()\n",
    "    return topn "
   ]
  },
  {
   "cell_type": "code",
   "execution_count": null,
   "metadata": {
    "collapsed": true
   },
   "outputs": [],
   "source": [
    "top_n(pd_df, \"col1\", \"col2\", n)"
   ]
  },
  {
   "cell_type": "code",
   "execution_count": null,
   "metadata": {
    "collapsed": true
   },
   "outputs": [],
   "source": [
    "# Top 35 for any two arguments along with any df\n",
    "\n",
    "def top_35(df, col1, col2):\n",
    "    #Finds top 35 of two columns!\n",
    "    sortk = df.nlargest(35, col2)[[col1,col2]].reset_index()\n",
    "    return sortk"
   ]
  },
  {
   "cell_type": "code",
   "execution_count": null,
   "metadata": {
    "collapsed": true
   },
   "outputs": [],
   "source": [
    "top_35(pd.df, \"col1\", \"col2\")"
   ]
  },
  {
   "cell_type": "code",
   "execution_count": null,
   "metadata": {
    "collapsed": true
   },
   "outputs": [],
   "source": [
    "# Function to find Top 25 movies using 2 columns!\n",
    "def top_25(df, col1, col2):\n",
    "    t25 = df.nlargest(25, col2)[[col1,col2]].reset_index(drop=True)\n",
    "    return t25"
   ]
  },
  {
   "cell_type": "code",
   "execution_count": null,
   "metadata": {
    "collapsed": true
   },
   "outputs": [],
   "source": [
    "top_25(pd.df, \"col1\", \"col2\")"
   ]
  },
  {
   "cell_type": "code",
   "execution_count": null,
   "metadata": {
    "collapsed": true
   },
   "outputs": [],
   "source": [
    "#Function to Print Top 10 of any two columns from a Dtaframe(df), and resets the index.\n",
    "def top_10(df, col1, col2):\n",
    "    #to find Top 10 of any two columns(col1, col2), in a Dataframe(df).\n",
    "    t10 = df.nlargest(10, col2)[[col1,col2]].reset_index(drop=True)\n",
    "    return t10"
   ]
  },
  {
   "cell_type": "code",
   "execution_count": null,
   "metadata": {
    "collapsed": true
   },
   "outputs": [],
   "source": [
    "top_10(pd.df, \"col1\", \"col2\")"
   ]
  },
  {
   "cell_type": "code",
   "execution_count": null,
   "metadata": {
    "collapsed": true
   },
   "outputs": [],
   "source": [
    "# Function to plot a Scatter plot with two colomns in a given Dataframe(df).\n",
    "\n",
    "def sctrplt(df, col1, col2,labelx, labely):\n",
    "    # scatter plot for two columns.\n",
    "    splt =plt.scatter(df[col1], df[col2], marker='.')\n",
    "    xl =plt.xlabel(labelx)\n",
    "    yl = plt.ylabel(labely)\n",
    "    return splt, xl,yl\n",
    "    "
   ]
  },
  {
   "cell_type": "code",
   "execution_count": null,
   "metadata": {
    "collapsed": true
   },
   "outputs": [],
   "source": [
    "sctrplt(pd.df, \"col1\", \"col2\")"
   ]
  },
  {
   "cell_type": "code",
   "execution_count": null,
   "metadata": {
    "collapsed": true
   },
   "outputs": [],
   "source": [
    "# Function to plot a Red Bar plot with two colomns in a given Dataframe(df).\n",
    "\n",
    "def barplt(df, col1, col2,labelx,labely):\n",
    "    #to plot a dataframes' Bar graph, colums and their labels \n",
    "    bplot = df.plot(kind='bar',x=col1 ,y=col2, figsize=(18,9), color='darkblue')\n",
    "    xl =plt.xlabel(labelx)\n",
    "    yl = plt.ylabel(labely)\n",
    "    return bplot, xl,yl\n"
   ]
  },
  {
   "cell_type": "code",
   "execution_count": null,
   "metadata": {
    "collapsed": true
   },
   "outputs": [],
   "source": [
    "barrplt(pd.df, \"col1\", \"col2\",\"x-label\",\"y-label\")"
   ]
  },
  {
   "cell_type": "code",
   "execution_count": null,
   "metadata": {
    "collapsed": true
   },
   "outputs": [],
   "source": [
    "# Function to Groupby by one colomn w.r.t two other colomns. \n",
    "def sum_groupby(df, col1, col2, col3):\n",
    "    #gropping colomns with sum aggregation. \n",
    "    grp = df.groupby(col1)[col2,col3 ].agg('sum')\n",
    "    return grp\n"
   ]
  },
  {
   "cell_type": "code",
   "execution_count": null,
   "metadata": {
    "collapsed": true
   },
   "outputs": [],
   "source": [
    "sum_groupby(pd_df,\"col1\",\"col2\",\"col3\").head(5)"
   ]
  },
  {
   "cell_type": "code",
   "execution_count": null,
   "metadata": {
    "collapsed": true
   },
   "outputs": [],
   "source": [
    "# Function to Groupby by one colomn w.r.t two other colomns. \n",
    "\n",
    "def mean_groupby(df, col1, col2, col3):\n",
    "    #gropping colomns with mean aggregation. \n",
    "    grp = df.groupby(col1)[col2,col3 ].agg('mean')\n",
    "    return grp"
   ]
  },
  {
   "cell_type": "code",
   "execution_count": null,
   "metadata": {
    "collapsed": true
   },
   "outputs": [],
   "source": [
    "mean_groupby(pd_df,\"col1\",\"col2\",\"col3\").head(5)"
   ]
  },
  {
   "cell_type": "code",
   "execution_count": null,
   "metadata": {
    "collapsed": true
   },
   "outputs": [],
   "source": [
    "def roei(df,col1,col2,col3,n):\n",
    "#calculatin Return on Investment(ROI) for one Parameter = col1, \n",
    "# profit = col2\n",
    "# investment = col3\n",
    "    profit = df.groupby(col1)[col2 ].agg('sum')\n",
    "    invest = df.groupby(col1)[col3].agg('sum')\n",
    "    ri = profit/invest\n",
    "    gi = ri.sort_values(ascending = False).head(n)\n",
    "    return gi"
   ]
  },
  {
   "cell_type": "code",
   "execution_count": null,
   "metadata": {
    "collapsed": true
   },
   "outputs": [],
   "source": [
    "def roiy(df,col1,col2,col3,n,yearv,y):\n",
    "#calculatin Return on Investment(ROI) for one Parameter = col1, \n",
    "# profit = col2\n",
    "# investment = col3\n",
    "#n = number of values to be displayed\n",
    "# yearv = to give a column name for year based analysis(name of the year column)\n",
    "# y = year(to get all the values greater than year y )\n",
    "    v = df[df[yearv]> y]\n",
    "    profit = v.groupby(col1)[col2 ].agg('sum')\n",
    "    invest = v.groupby(col1)[col3].agg('sum')\n",
    "    ri = profit/invest\n",
    "    gi = ri.sort_values(ascending = False).head(n)\n",
    "    return gi"
   ]
  },
  {
   "cell_type": "markdown",
   "metadata": {},
   "source": [
    "## Class \n",
    "### class used for :\n",
    "#### Null, least-n, top-n, ROI,  sum aggregation, mean aggregation, by postion,by a vales, and few graphs "
   ]
  },
  {
   "cell_type": "code",
   "execution_count": null,
   "metadata": {
    "collapsed": true
   },
   "outputs": [],
   "source": [
    "class Movie_analysis(object):\n",
    "#''' it contains methods for analysis for movie dataset :  \n",
    "# ''' it contains plotting null values, finding top rated by column names, plotting bar and scatter plots, mean and sum groupby ''\n",
    "    \n",
    "    def __init__(self, df):\n",
    "        self.df = df\n",
    "        \n",
    "    def null_plot(self):\n",
    "#plots bar graph for all the null values in a dataframe\n",
    "        null = self.df.isnull().sum().plot(kind = 'bar',figsize = (10,5))\n",
    "        return null\n",
    "    \n",
    "######################---Top---###################################\n",
    "        \n",
    "    def top_rated(self, col1, col2,clo3, col4):\n",
    " # function that takes 4 column names, groups by maximum of col1 w.r.t(displays) col2,3,4 and sorts by col2       \n",
    "        mr = self.df.groupby(col1)[col2, clo3,col4].max().sort_values(by = col2, ascending = False)\n",
    "        return mr\n",
    "    \n",
    "#     def top_n(self, col1, col2,col3,col4, n):\n",
    "# # Top n (n = natural number) for any two columns within any df along with dataframe df.\n",
    "#     #Finds top n of two columns!\n",
    "# #where col1 = displayed w.r.t col2's nlargest values\n",
    "#         topn = self.df.nlargest(n, col2)[[col1,col2,col3,col4]].reset_index()\n",
    "#         return topn \n",
    "    \n",
    "    def top_n(self, col1, col2,col3,col4, n):\n",
    "    #to find Top n of any two columns(col1, col2), in a Dataframe(df).\n",
    "        tn = self.df.nlargest(n, col2)[[col1,col2,col3,col4]].reset_index(drop=True)\n",
    "        return tn\n",
    "    \n",
    "    def top_10(self, col1, col2):\n",
    "    #to find Top 10 of any two columns(col1, col2), in a Dataframe(df).\n",
    "        t10 = self.df.nlargest(10, col2)[[col1,col2]].reset_index(drop=True)\n",
    "        return t10\n",
    "    \n",
    "    \n",
    "    def top_rated_year(self,col1,col2,col3,year):\n",
    "        myr = self.df.groupby(col1).max().loc[year][[col2,col3]]\n",
    "        return myr\n",
    "    \n",
    "    def last_n(self, col1,col2,col3,n):\n",
    "        ln = self.df.groupby(col1)[col2,col3].max().tail(n)\n",
    "        return ln\n",
    "    \n",
    "    \n",
    "  \n",
    "    \n",
    "    \n",
    "    def top_25(self, col1,col2):\n",
    "    ## Need to be improved\n",
    "    #group by col1 with summation of col2 and naming the col2 with col2name\n",
    "        smm = self.df[col2].groupby(self.df[col1]).sum().head(25)\n",
    "        smm = smm.to_frame(name= col2)\n",
    "        sn = smm.sort_values(col2, ascending = False)\n",
    "        return smm,sn\n",
    "    \n",
    "########################--Least--###############################################\n",
    "  \n",
    "    def least_n(self, col1, col2,col3,col4, n):\n",
    "    #to find Least n of any two columns(col1, col2), in a Dataframe(df)  but view by 4 columns.\n",
    "        ln = self.df.nsmallest(n, col2)[[col1,col2,col3,col4]].reset_index(drop=True)\n",
    "        return ln\n",
    "    \n",
    "    \n",
    "    def least_rated_year(self,col1,col2,col3,year):\n",
    "        lyr = self.df.groupby(col1).min().loc[year][[col2,col3]]\n",
    "        return lyr\n",
    "\n",
    "\n",
    "    \n",
    "    \n",
    "##############---Sum & Mean Groupby---##########################################   \n",
    "    def mean_groupby(self, col1, col2, col3):\n",
    "    #gropping colomns with mean aggregation. \n",
    "        agrp = df.groupby(col1)[col2,col3 ].agg('mean')\n",
    "        return agrp \n",
    "    \n",
    "    \n",
    "    def sum_groupby(self, col1, col2, col3):\n",
    "#gropping colomns with sum aggregation. \n",
    "# Function to Groupby by one colomn w.r.t two other colomns. \n",
    "        grp = self.df.groupby(col1)[col2,col3 ].agg('sum')\n",
    "        return grp\n",
    "    \n",
    "    \n",
    "################################Return on Investment #############################\n",
    "    \n",
    "    def roi(self,col1,col2,col3,n):\n",
    "#calculatin Return on Investment(ROI) for one Parameter = col1, \n",
    "# profit = col2\n",
    "# investment = col3\n",
    "        profit = self.df.groupby(col1)[col2 ].agg('sum')\n",
    "        invest = self.df.groupby(col1)[col3].agg('sum')\n",
    "        ri = profit/invest\n",
    "        gi = ri.sort_values(ascending = False).head(n)\n",
    "        return gi\n",
    "    \n",
    "    def roiy(self,col1,col2,col3,n,yearv,y):\n",
    "#calculatin Return on Investment(ROI) for one Parameter = col1, \n",
    "# profit = col2\n",
    "# investment = col3\n",
    "#n = number of values to be displayed\n",
    "# yearv = to give a column name for year based analysis(name of the year column)\n",
    "# y = year(to get all the values greater than year y )\n",
    "        v = self.df[self.df[yearv]>= y]\n",
    "        profit = v.groupby(col1)[col2 ].agg('sum')\n",
    "        invest = v.groupby(col1)[col3].agg('sum')\n",
    "        ri = profit/invest\n",
    "        gi = ri.sort_values(ascending = False).head(n)\n",
    "        return gi\n",
    "    \n",
    "#####################---Graphs----##################### \n",
    "    def barplot_col(self, col1, col2,labelx,labely):\n",
    " # Function to plot a Red Bar plot with two colomns in a given Dataframe(df).\n",
    "    #to plot a dataframes' Bar graph, colums and their labels \n",
    "        bplot = self.df.plot(kind='bar',x=col1 ,y=col2, figsize=(18,9), color='darkblue')\n",
    "        xl =plt.xlabel(labelx)\n",
    "        yl = plt.ylabel(labely)\n",
    "        return bplot, xl,yl"
   ]
  },
  {
   "cell_type": "markdown",
   "metadata": {},
   "source": [
    "## # Fast - Graph Functions"
   ]
  },
  {
   "cell_type": "code",
   "execution_count": null,
   "metadata": {
    "collapsed": true
   },
   "outputs": [],
   "source": [
    "## Graph functio not part of to any Class.\n",
    "def barplot(s):\n",
    "        brplt = s.plot(kind='bar', figsize=(18,9), color='rbg')\n",
    "        return brplt\n",
    "    \n",
    "def barhplot(s):\n",
    "    bhplt = s.plot(kind='barh', figsize = (18,9), color = 'gbr')\n",
    "    return bhplt\n",
    "\n",
    "def histplot(s):\n",
    "    hplt = s.plot(kind='hist', figsize = (18,9), color = 'kbr')\n",
    "    return hplt\n",
    "\n",
    "def hist_col(s,col1,xlabel,ylabel,title):\n",
    "    hc = s.plot(kind='hist', figsize=(12,8),bins=40, stacked=True)\n",
    "    plt.title(title)\n",
    "    plt.xlabel(xlabel)\n",
    "    plt.ylabel(ylabel)\n",
    "#     plt.locator_params(nbins=15)\n",
    "\n",
    "\n",
    "def sctrplt(s, col1, col2,labelx, labely):\n",
    "    # scatter plot for two columns.\n",
    "    splt =plt.scatter(s[col1], s[col2], marker='.')\n",
    "    xl =plt.xlabel(labelx)\n",
    "    yl = plt.ylabel(labely)\n",
    "    return splt, xl,yl\n",
    "\n",
    "def stripplot(s,col1,col2,huecol):\n",
    "    ax = sns.stripplot(x=col1, y=col2,hue = huecol,\n",
    "                   data=s, jitter=True ,size= 6, marker= \"p\" ,linewidth=1,split=True)"
   ]
  },
  {
   "cell_type": "markdown",
   "metadata": {},
   "source": [
    "### # working with Time series!"
   ]
  },
  {
   "cell_type": "code",
   "execution_count": null,
   "metadata": {
    "collapsed": true
   },
   "outputs": [],
   "source": [
    "##### Opening a CSV and converting datatime to datetime format for analysis\n",
    "\n",
    "sample_df = pd.read_csv(\"C:/Users/arjun/Documents/Enernoc_Project_Aj/Data_csv/csv/10.csv\", parse_dates =['column name'])"
   ]
  },
  {
   "cell_type": "code",
   "execution_count": null,
   "metadata": {
    "collapsed": true
   },
   "outputs": [],
   "source": [
    "# Function to convert datatime column object to datetime format. \n",
    "\n",
    "def conv_datetime(df,col,):\n",
    "# converting datatime to datetime format for analysis    \n",
    "    dt = df[col] = pd.to_datetime(df[col])\n",
    "    return dt"
   ]
  },
  {
   "cell_type": "code",
   "execution_count": null,
   "metadata": {
    "collapsed": true
   },
   "outputs": [],
   "source": [
    "#### Creating a new date and time seperate columns.\n",
    "\n",
    "sample_df['new_date'] = [d.date() for d in sample_df['dttm_utc']]\n",
    "sample_df['new_time'] = [d.time() for d in sample_df['dttm_utc']]"
   ]
  }
 ],
 "metadata": {
  "anaconda-cloud": {},
  "kernelspec": {
   "display_name": "Python [conda env:py27]",
   "language": "python",
   "name": "conda-env-py27-py"
  },
  "language_info": {
   "codemirror_mode": {
    "name": "ipython",
    "version": 2
   },
   "file_extension": ".py",
   "mimetype": "text/x-python",
   "name": "python",
   "nbconvert_exporter": "python",
   "pygments_lexer": "ipython2",
   "version": "2.7.13"
  }
 },
 "nbformat": 4,
 "nbformat_minor": 2
}
